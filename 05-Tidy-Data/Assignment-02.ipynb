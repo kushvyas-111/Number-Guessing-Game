{
  "nbformat": 4,
  "nbformat_minor": 0,
  "metadata": {
    "kernelspec": {
      "display_name": "Python 3",
      "language": "python",
      "name": "python3"
    },
    "language_info": {
      "codemirror_mode": {
        "name": "ipython",
        "version": 3
      },
      "file_extension": ".py",
      "mimetype": "text/x-python",
      "name": "python",
      "nbconvert_exporter": "python",
      "pygments_lexer": "ipython3",
      "version": "3.7.2"
    },
    "colab": {
      "provenance": []
    }
  },
  "cells": [
    {
      "cell_type": "markdown",
      "metadata": {
        "id": "JoeEHEJwVDG0"
      },
      "source": [
        "# Assignment 2"
      ]
    },
    {
      "cell_type": "markdown",
      "metadata": {
        "id": "q1cTiJ0CVDG4"
      },
      "source": [
        "**Generative AI rule:** For this assignment, you are allowed to use generative AI tools for assistance, but the code must be your original work—any code that is not your own will be considered cheating.\n",
        "\n",
        "## Data\n",
        "\n",
        "This is a historical dataset on the modern Olympic Games, including all the Games from Athens 1896 to Rio 2016. The data was taken from Kaggle. The `athlete_events` Dataset contains $271,116$ rows and $15$ columns.\n",
        "\n",
        "**Important note**: Athletes with the same name might not be the same individuals. To accurately distinguish them, make sure to use their unique IDs.\n",
        "\n",
        "**ATTRIBUTES:**\n",
        "\n",
        "**athlete_events.csv**\n",
        "\n",
        "| Column Name | Data Type | Description/Notes |\n",
        "|:----:|:----:|:----|\n",
        "| ID |  integer | Unique number for each athlete |\n",
        "| Name | string | Athlete’s name |\n",
        "| Sex | string | M or F |\n",
        "| Age | integer |  |\n",
        "| Height | integer | In centimeters |\n",
        "| Weight | integer | In kilograms |\n",
        "| Team | string | Team name |\n",
        "| NOC | string | National Olympic Committee, 3 letter code (Matches with `NOC` from noc_regions.csv) |\n",
        "| Games | string | Year and season |\n",
        "| Year | integer |  |\n",
        "| Season | string | Summer or Winter |\n",
        "| City | string | Host city |\n",
        "| Sport | string |  |\n",
        "| Event | string |  |\n",
        "| Medal | string | Gold, Silver, Bronze, or NA |\n",
        "\n",
        "**Source:** Griffin, R, H (2018) 120 years of Olympic history: athletes and results, athlete_events, Found at: https://www.kaggle.com/heesoo37/120-years-of-olympic-history-athletes-and-results#athlete_events.csv"
      ]
    },
    {
      "cell_type": "markdown",
      "metadata": {
        "id": "R5zo_vISVDG5"
      },
      "source": [
        "Download athlete_events.csv from the link above and load it into a DataFrame called `athlete_events`:"
      ]
    },
    {
      "cell_type": "code",
      "source": [
        "import kagglehub\n",
        "\n",
        "# Download latest version\n",
        "path = kagglehub.dataset_download(\"heesoo37/120-years-of-olympic-history-athletes-and-results\")\n",
        "\n",
        "print(\"Path to dataset files:\", path)"
      ],
      "metadata": {
        "id": "F4oHFZ46YD7n",
        "outputId": "a5d2f3e7-e7c0-441f-e8bf-e958448f2258",
        "colab": {
          "base_uri": "https://localhost:8080/"
        }
      },
      "execution_count": 1,
      "outputs": [
        {
          "output_type": "stream",
          "name": "stdout",
          "text": [
            "Using Colab cache for faster access to the '120-years-of-olympic-history-athletes-and-results' dataset.\n",
            "Path to dataset files: /kaggle/input/120-years-of-olympic-history-athletes-and-results\n"
          ]
        }
      ]
    },
    {
      "cell_type": "code",
      "metadata": {
        "id": "azkCFhd2VDG5",
        "colab": {
          "base_uri": "https://localhost:8080/"
        },
        "outputId": "b3910f80-c868-4dff-e063-e238ec5d2605"
      },
      "source": [
        "import kagglehub\n",
        "import pandas as pd\n",
        "\n",
        "# Download dataset\n",
        "path = kagglehub.dataset_download(\"heesoo37/120-years-of-olympic-history-athletes-and-results\")\n",
        "\n",
        "# File path to athlete_events.csv\n",
        "csv_path = f\"{path}/athlete_events.csv\"\n",
        "\n",
        "# Load into DataFrame\n",
        "athlete_events = pd.read_csv(csv_path)\n",
        "\n",
        "# ✅ Now explore\n",
        "print(\"Shape:\", athlete_events.shape)   # Rows, Columns\n",
        "print(\"\\n--- Info ---\")\n",
        "print(athlete_events.info())\n",
        "\n",
        "print(\"\\n--- Describe ---\")\n",
        "print(athlete_events.describe())\n",
        "\n",
        "print(\"\\nMissing values per column:\")\n",
        "print(athlete_events.isnull().sum())\n",
        "\n"
      ],
      "execution_count": 3,
      "outputs": [
        {
          "output_type": "stream",
          "name": "stdout",
          "text": [
            "Using Colab cache for faster access to the '120-years-of-olympic-history-athletes-and-results' dataset.\n",
            "Shape: (271116, 15)\n",
            "\n",
            "--- Info ---\n",
            "<class 'pandas.core.frame.DataFrame'>\n",
            "RangeIndex: 271116 entries, 0 to 271115\n",
            "Data columns (total 15 columns):\n",
            " #   Column  Non-Null Count   Dtype  \n",
            "---  ------  --------------   -----  \n",
            " 0   ID      271116 non-null  int64  \n",
            " 1   Name    271116 non-null  object \n",
            " 2   Sex     271116 non-null  object \n",
            " 3   Age     261642 non-null  float64\n",
            " 4   Height  210945 non-null  float64\n",
            " 5   Weight  208241 non-null  float64\n",
            " 6   Team    271116 non-null  object \n",
            " 7   NOC     271116 non-null  object \n",
            " 8   Games   271116 non-null  object \n",
            " 9   Year    271116 non-null  int64  \n",
            " 10  Season  271116 non-null  object \n",
            " 11  City    271116 non-null  object \n",
            " 12  Sport   271116 non-null  object \n",
            " 13  Event   271116 non-null  object \n",
            " 14  Medal   39783 non-null   object \n",
            "dtypes: float64(3), int64(2), object(10)\n",
            "memory usage: 31.0+ MB\n",
            "None\n",
            "\n",
            "--- Describe ---\n",
            "                  ID            Age         Height         Weight  \\\n",
            "count  271116.000000  261642.000000  210945.000000  208241.000000   \n",
            "mean    68248.954396      25.556898     175.338970      70.702393   \n",
            "std     39022.286345       6.393561      10.518462      14.348020   \n",
            "min         1.000000      10.000000     127.000000      25.000000   \n",
            "25%     34643.000000      21.000000     168.000000      60.000000   \n",
            "50%     68205.000000      24.000000     175.000000      70.000000   \n",
            "75%    102097.250000      28.000000     183.000000      79.000000   \n",
            "max    135571.000000      97.000000     226.000000     214.000000   \n",
            "\n",
            "                Year  \n",
            "count  271116.000000  \n",
            "mean     1978.378480  \n",
            "std        29.877632  \n",
            "min      1896.000000  \n",
            "25%      1960.000000  \n",
            "50%      1988.000000  \n",
            "75%      2002.000000  \n",
            "max      2016.000000  \n",
            "\n",
            "Missing values per column:\n",
            "ID             0\n",
            "Name           0\n",
            "Sex            0\n",
            "Age         9474\n",
            "Height     60171\n",
            "Weight     62875\n",
            "Team           0\n",
            "NOC            0\n",
            "Games          0\n",
            "Year           0\n",
            "Season         0\n",
            "City           0\n",
            "Sport          0\n",
            "Event          0\n",
            "Medal     231333\n",
            "dtype: int64\n"
          ]
        }
      ]
    },
    {
      "cell_type": "markdown",
      "metadata": {
        "id": "8IQhitmAVDG5"
      },
      "source": [
        "Use `info()` method on this DataFrame to get a sense of the data:"
      ]
    },
    {
      "cell_type": "code",
      "metadata": {
        "colab": {
          "base_uri": "https://localhost:8080/"
        },
        "id": "h-aNF7hJVDG6",
        "outputId": "a24e526b-1272-4082-ce0a-d1bdf38178a1"
      },
      "source": [
        "# Your code goes here\n",
        "# Use info() to get a concise summary of the dataset\n",
        "athlete_events.info()\n",
        "\n",
        "print(\"\\n--- Key Insights ---\")\n",
        "\n",
        "# Count missing values per column\n",
        "missing = athlete_events.isnull().sum()\n",
        "\n",
        "# Show columns with at least one missing value\n",
        "print(\"Columns with missing values:\")\n",
        "print(missing[missing > 0])\n",
        "\n",
        "# Show data types of all columns\n",
        "print(\"\\nData types of columns:\")\n",
        "print(athlete_events.dtypes)\n",
        "\n"
      ],
      "execution_count": 4,
      "outputs": [
        {
          "output_type": "stream",
          "name": "stdout",
          "text": [
            "<class 'pandas.core.frame.DataFrame'>\n",
            "RangeIndex: 271116 entries, 0 to 271115\n",
            "Data columns (total 15 columns):\n",
            " #   Column  Non-Null Count   Dtype  \n",
            "---  ------  --------------   -----  \n",
            " 0   ID      271116 non-null  int64  \n",
            " 1   Name    271116 non-null  object \n",
            " 2   Sex     271116 non-null  object \n",
            " 3   Age     261642 non-null  float64\n",
            " 4   Height  210945 non-null  float64\n",
            " 5   Weight  208241 non-null  float64\n",
            " 6   Team    271116 non-null  object \n",
            " 7   NOC     271116 non-null  object \n",
            " 8   Games   271116 non-null  object \n",
            " 9   Year    271116 non-null  int64  \n",
            " 10  Season  271116 non-null  object \n",
            " 11  City    271116 non-null  object \n",
            " 12  Sport   271116 non-null  object \n",
            " 13  Event   271116 non-null  object \n",
            " 14  Medal   39783 non-null   object \n",
            "dtypes: float64(3), int64(2), object(10)\n",
            "memory usage: 31.0+ MB\n",
            "\n",
            "--- Key Insights ---\n",
            "Columns with missing values:\n",
            "Age         9474\n",
            "Height     60171\n",
            "Weight     62875\n",
            "Medal     231333\n",
            "dtype: int64\n",
            "\n",
            "Data types of columns:\n",
            "ID          int64\n",
            "Name       object\n",
            "Sex        object\n",
            "Age       float64\n",
            "Height    float64\n",
            "Weight    float64\n",
            "Team       object\n",
            "NOC        object\n",
            "Games      object\n",
            "Year        int64\n",
            "Season     object\n",
            "City       object\n",
            "Sport      object\n",
            "Event      object\n",
            "Medal      object\n",
            "dtype: object\n"
          ]
        }
      ]
    },
    {
      "cell_type": "markdown",
      "metadata": {
        "id": "etJYnbkwVDG6"
      },
      "source": [
        "## Question 1\n",
        "\n",
        "Identify athletes who meet all of the following criteria:\n",
        "\n",
        "- They are male (Sex is \"M\").\n",
        "- Their age is below 25.\n",
        "- They have participated in the Summer Olympics.\n",
        "- They have won a medal.\n",
        "\n",
        "Once you have filtered the athletes based on the above criteria, calculate the average height and weight of these athletes."
      ]
    },
    {
      "cell_type": "code",
      "metadata": {
        "id": "3NGbSoxGVDG7",
        "outputId": "ef6bf9b2-319d-41ea-a74e-bc68afc9642f",
        "colab": {
          "base_uri": "https://localhost:8080/"
        }
      },
      "source": [
        "# Your code goes here\n",
        "# Filter athletes by the given criteria\n",
        "filtered_athletes = athlete_events[\n",
        "    (athlete_events[\"Sex\"] == \"M\") &\n",
        "    (athlete_events[\"Age\"] < 25) &\n",
        "    (athlete_events[\"Season\"] == \"Summer\") &\n",
        "    (athlete_events[\"Medal\"].notna())\n",
        "]\n",
        "\n",
        "# Calculate average height and weight\n",
        "avg_height = filtered_athletes[\"Height\"].mean()\n",
        "avg_weight = filtered_athletes[\"Weight\"].mean()\n",
        "\n",
        "print(\"Number of athletes meeting criteria:\", len(filtered_athletes))\n",
        "print(f\"Average Height: {avg_height:.2f} cm\")\n",
        "print(f\"Average Weight: {avg_weight:.2f} kg\")\n"
      ],
      "execution_count": 5,
      "outputs": [
        {
          "output_type": "stream",
          "name": "stdout",
          "text": [
            "Number of athletes meeting criteria: 10558\n",
            "Average Height: 181.07 cm\n",
            "Average Weight: 77.58 kg\n"
          ]
        }
      ]
    },
    {
      "cell_type": "markdown",
      "metadata": {
        "id": "iEhLEXLZVDG7"
      },
      "source": [
        "## Question 2\n",
        "\n",
        "Using the dataset, group the athletes by \"Team\" and calculate the following for each team:\n",
        "\n",
        "- Which team has the maximum number of atheletes?\n",
        "- Which team has competed in the highest number of distinct sports?\n"
      ]
    },
    {
      "cell_type": "code",
      "metadata": {
        "id": "muosk0LbVDG8",
        "outputId": "a280f6b6-6334-48a8-f44c-0ba5313db263",
        "colab": {
          "base_uri": "https://localhost:8080/"
        }
      },
      "source": [
        "# Your code goes here\n",
        "# 1. Number of unique athletes per team\n",
        "team_athletes = athlete_events.groupby(\"Team\")[\"ID\"].nunique()\n",
        "\n",
        "# Find team with maximum athletes\n",
        "max_athletes_team = team_athletes.idxmax()\n",
        "max_athletes_count = team_athletes.max()\n",
        "\n",
        "print(f\"Team with maximum athletes: {max_athletes_team} ({max_athletes_count} athletes)\")\n",
        "\n",
        "# 2. Number of distinct sports per team\n",
        "team_sports = athlete_events.groupby(\"Team\")[\"Sport\"].nunique()\n",
        "\n",
        "# Find team with highest number of distinct sports\n",
        "max_sports_team = team_sports.idxmax()\n",
        "max_sports_count = team_sports.max()\n",
        "\n",
        "print(f\"Team with highest number of distinct sports: {max_sports_team} ({max_sports_count} sports)\")\n"
      ],
      "execution_count": 6,
      "outputs": [
        {
          "output_type": "stream",
          "name": "stdout",
          "text": [
            "Team with maximum athletes: United States (9115 athletes)\n",
            "Team with highest number of distinct sports: Great Britain (56 sports)\n"
          ]
        }
      ]
    },
    {
      "cell_type": "markdown",
      "metadata": {
        "id": "kGN2cpdHVDG8"
      },
      "source": [
        "## Question 3\n",
        "\n",
        "**True or False?**\n",
        "\n",
        "> The average height of athletes who won a medal in Speed Skating is greater than the average height of athletes who won a medal in Basketball.\n",
        "\n",
        "Write code to determine if this statement is True or False."
      ]
    },
    {
      "cell_type": "code",
      "metadata": {
        "id": "zLbAGH-ZVDG8",
        "outputId": "d6a3face-bb07-48de-e4c5-35403f51e907",
        "colab": {
          "base_uri": "https://localhost:8080/"
        }
      },
      "source": [
        "# Your code goes here\n",
        "# Filter only medal winners\n",
        "medal_winners = athlete_events[athlete_events[\"Medal\"].notna()]\n",
        "\n",
        "# Average height of medal winners in Speed Skating\n",
        "avg_height_speed_skating = medal_winners[medal_winners[\"Sport\"] == \"Speed Skating\"][\"Height\"].mean()\n",
        "\n",
        "# Average height of medal winners in Basketball\n",
        "avg_height_basketball = medal_winners[medal_winners[\"Sport\"] == \"Basketball\"][\"Height\"].mean()\n",
        "\n",
        "# Compare and print result\n",
        "result = avg_height_speed_skating > avg_height_basketball\n",
        "\n",
        "print(f\"Average height (Speed Skating): {avg_height_speed_skating:.2f} cm\")\n",
        "print(f\"Average height (Basketball): {avg_height_basketball:.2f} cm\")\n",
        "print(\"Statement is\", result)\n"
      ],
      "execution_count": 7,
      "outputs": [
        {
          "output_type": "stream",
          "name": "stdout",
          "text": [
            "Average height (Speed Skating): 175.18 cm\n",
            "Average height (Basketball): 191.99 cm\n",
            "Statement is False\n"
          ]
        }
      ]
    },
    {
      "cell_type": "markdown",
      "metadata": {
        "id": "SDhudi_MVDG9"
      },
      "source": [
        "## Question 4\n",
        "\n",
        "Identify athletes who have participated in multiple Olympic events (more than one unique event). For these athletes:\n",
        "\n",
        "- Calculate the sum of the total number of events they participated in altogether.\n",
        "- Identify the athletes who have won at least two medals (any type of medal).  How many such atheletes are there?"
      ]
    },
    {
      "cell_type": "code",
      "metadata": {
        "id": "GTXjS7ZGVDG9",
        "outputId": "eaac69a7-714f-45ae-e883-6cbfb992876d",
        "colab": {
          "base_uri": "https://localhost:8080/"
        }
      },
      "source": [
        "# Your code goes here\n",
        "# Group by athlete (ID + Name just for readability)\n",
        "athlete_group = athlete_events.groupby([\"ID\", \"Name\"])\n",
        "\n",
        "# 1. Count unique events per athlete\n",
        "athlete_event_counts = athlete_group[\"Event\"].nunique()\n",
        "\n",
        "# Filter athletes who participated in more than one unique event\n",
        "multi_event_athletes = athlete_event_counts[athlete_event_counts > 1]\n",
        "\n",
        "# Sum of total number of events they participated in\n",
        "total_events = multi_event_athletes.sum()\n",
        "\n",
        "print(\"Total number of events participated in by multi-event athletes:\", total_events)\n",
        "\n",
        "# 2. Count medals per athlete (non-null Medal entries)\n",
        "athlete_medal_counts = athlete_group[\"Medal\"].apply(lambda x: x.notna().sum())\n",
        "\n",
        "# Filter athletes with at least 2 medals\n",
        "multi_medal_athletes = athlete_medal_counts[athlete_medal_counts >= 2]\n",
        "\n",
        "print(\"Number of athletes with at least two medals:\", len(multi_medal_athletes))\n"
      ],
      "execution_count": 8,
      "outputs": [
        {
          "output_type": "stream",
          "name": "stdout",
          "text": [
            "Total number of events participated in by multi-event athletes: 111304\n",
            "Number of athletes with at least two medals: 6996\n"
          ]
        }
      ]
    },
    {
      "cell_type": "markdown",
      "metadata": {
        "id": "nTqj2HYXVDG9"
      },
      "source": [
        "## Question 5\n",
        "\n",
        "Identify all athletes who have won at least one medal and have participated in two or more different sports. For these athletes:\n",
        "\n",
        "- Find the total number of different sports each of them participated in. Which athlete has the highest number of sports? And how many?\n",
        "- Calculate the average number of medals won by these athletes. Which athlete has the maximum number of medals? And how many?"
      ]
    },
    {
      "cell_type": "code",
      "metadata": {
        "id": "ZsoZoa2nVDG-",
        "outputId": "8be05890-b487-4854-ebb4-1c00f94a0676",
        "colab": {
          "base_uri": "https://localhost:8080/"
        }
      },
      "source": [
        "# Filter medal winners\n",
        "medal_winners = athlete_events[athlete_events[\"Medal\"].notna()]\n",
        "\n",
        "# Group by athlete\n",
        "athlete_group = medal_winners.groupby([\"ID\", \"Name\"])\n",
        "\n",
        "# Count distinct sports\n",
        "sports_per_athlete = athlete_group[\"Sport\"].nunique()\n",
        "\n",
        "# Count medals\n",
        "medals_per_athlete = athlete_group[\"Medal\"].count()\n",
        "\n",
        "# Keep only athletes with >= 2 different sports\n",
        "multi_sport_athletes = sports_per_athlete[sports_per_athlete >= 2]\n",
        "\n",
        "# Join with medal counts\n",
        "multi_sport_data = pd.DataFrame({\n",
        "    \"Sports_Count\": multi_sport_athletes,\n",
        "    \"Medals_Count\": medals_per_athlete.loc[multi_sport_athletes.index]\n",
        "})\n",
        "\n",
        "# Athlete with highest number of sports\n",
        "max_sports_athlete = multi_sport_data[\"Sports_Count\"].idxmax()\n",
        "max_sports = multi_sport_data[\"Sports_Count\"].max()\n",
        "\n",
        "# Average medals among these athletes\n",
        "avg_medals = multi_sport_data[\"Medals_Count\"].mean()\n",
        "\n",
        "# Athlete with maximum medals\n",
        "max_medals_athlete = multi_sport_data[\"Medals_Count\"].idxmax()\n",
        "max_medals = multi_sport_data[\"Medals_Count\"].max()\n",
        "\n",
        "print(\"Athlete with highest number of sports:\", max_sports_athlete, \"-\", max_sports, \"sports\")\n",
        "print(f\"Average number of medals among these athletes: {avg_medals:.2f}\")\n",
        "print(\"Athlete with maximum number of medals:\", max_medals_athlete, \"-\", max_medals, \"medals\")\n",
        "\n"
      ],
      "execution_count": 11,
      "outputs": [
        {
          "output_type": "stream",
          "name": "stdout",
          "text": [
            "Athlete with highest number of sports: (np.int64(64683), 'Frank X. Kugler') - 3 sports\n",
            "Average number of medals among these athletes: 2.92\n",
            "Athlete with maximum number of medals: (np.int64(68647), 'Eric Otto Valdemar Lemming') - 7 medals\n"
          ]
        }
      ]
    },
    {
      "cell_type": "markdown",
      "metadata": {
        "id": "b6JJSfHiVDG-"
      },
      "source": [
        "## Question 6\n",
        "\n",
        "Identify the top 3 most common sports in which athletes have won a Gold medal. List the sports in descending order of frequency."
      ]
    },
    {
      "cell_type": "code",
      "metadata": {
        "id": "QJB0tpFOVDG-",
        "outputId": "1e70b66c-6a78-4488-826d-b438fcee377a",
        "colab": {
          "base_uri": "https://localhost:8080/"
        }
      },
      "source": [
        "# Your code goes here\n",
        "# Filter only gold medal winners\n",
        "gold_winners = athlete_events[athlete_events[\"Medal\"] == \"Gold\"]\n",
        "\n",
        "# Count sports frequency\n",
        "gold_sport_counts = gold_winners[\"Sport\"].value_counts()\n",
        "\n",
        "# Top 3 sports\n",
        "top3_sports = gold_sport_counts.head(3)\n",
        "\n",
        "print(\"Top 3 sports with most Gold medals:\")\n",
        "print(top3_sports)\n",
        "\n"
      ],
      "execution_count": 12,
      "outputs": [
        {
          "output_type": "stream",
          "name": "stdout",
          "text": [
            "Top 3 sports with most Gold medals:\n",
            "Sport\n",
            "Athletics    1339\n",
            "Swimming     1099\n",
            "Rowing        978\n",
            "Name: count, dtype: int64\n"
          ]
        }
      ]
    },
    {
      "cell_type": "markdown",
      "source": [
        "## Question 7\n",
        "\n",
        "As part of a sponsorship deal, a company wants to endorse athletes who have a consistent performance in the Olympics. The company defines consistency for athletes who have participated more than one year and those who have won at least one medal in every year.\n",
        "\n",
        "How many such athletes exist?\n",
        "\n"
      ],
      "metadata": {
        "id": "ZRcRJsx8YDef"
      }
    },
    {
      "cell_type": "code",
      "source": [
        "# Your code goes here\n",
        "# Group athletes\n",
        "athlete_group = athlete_events.groupby([\"ID\", \"Name\"])\n",
        "\n",
        "consistent_athletes = []\n",
        "\n",
        "for (ath_id, ath_name), group in athlete_group:\n",
        "    years_participated = set(group[\"Year\"].unique())\n",
        "    years_with_medals = set(group.loc[group[\"Medal\"].notna(), \"Year\"].unique())\n",
        "\n",
        "    # Check conditions: multi-year AND medals in every year\n",
        "    if len(years_participated) > 1 and years_participated == years_with_medals:\n",
        "        consistent_athletes.append((ath_id, ath_name))\n",
        "\n",
        "print(\"Number of consistent athletes:\", len(consistent_athletes))\n"
      ],
      "metadata": {
        "id": "k76RQNAfZUkt",
        "outputId": "efc8809a-c472-4b69-a63c-fe578bcca62b",
        "colab": {
          "base_uri": "https://localhost:8080/"
        }
      },
      "execution_count": 13,
      "outputs": [
        {
          "output_type": "stream",
          "name": "stdout",
          "text": [
            "Number of consistent athletes: 3375\n"
          ]
        }
      ]
    },
    {
      "cell_type": "markdown",
      "source": [
        "## Question 8\n",
        "\n",
        "A sports analytics firm wants to identify athletes who have shown versatility by competing in both individual and team sports. The firm is particularly interested in those who have won at least one medal in both types of events.\n",
        "\n",
        "Provide the total number of athletes who have won medals in both individual and team sports.\n",
        "\n",
        "Note: The following is a list of all team sports to reference for this question:\n",
        "\n",
        "```\n",
        "['Basketball', 'Football', 'Tug-Of-War', 'Ice Hockey', 'Handball', 'Water Polo', 'Hockey', 'Rowing', 'Bobsleigh', 'Sailing', 'Baseball', 'Softball',\n",
        "'Rugby Sevens', 'Volleyball', 'Beach Volleyball', 'Synchronized Swimming' 'Curling', 'Lacrosse', 'Polo', 'Cricket', 'Military Ski Patrol', 'Croquet']\n",
        "```"
      ],
      "metadata": {
        "id": "b3MTXfoykQ4E"
      }
    },
    {
      "cell_type": "code",
      "source": [
        "# Your code goes here\n",
        "# List of team sports\n",
        "team_sports = [\n",
        "    'Basketball', 'Football', 'Tug-Of-War', 'Ice Hockey', 'Handball', 'Water Polo',\n",
        "    'Hockey', 'Rowing', 'Bobsleigh', 'Sailing', 'Baseball', 'Softball',\n",
        "    'Rugby Sevens', 'Volleyball', 'Beach Volleyball', 'Synchronized Swimming',\n",
        "    'Curling', 'Lacrosse', 'Polo', 'Cricket', 'Military Ski Patrol', 'Croquet'\n",
        "]\n",
        "\n",
        "# Filter only medal winners\n",
        "medal_winners = athlete_events[athlete_events[\"Medal\"].notna()]\n",
        "\n",
        "# Group by athlete\n",
        "athlete_group = medal_winners.groupby([\"ID\", \"Name\"])\n",
        "\n",
        "versatile_athletes = []\n",
        "\n",
        "for (ath_id, ath_name), group in athlete_group:\n",
        "    sports_played = set(group[\"Sport\"].unique())\n",
        "\n",
        "    # Check if athlete has at least one team sport medal\n",
        "    team_medal = any(sport in team_sports for sport in group[\"Sport\"])\n",
        "\n",
        "    # Check if athlete has at least one individual sport medal\n",
        "    individual_medal = any(sport not in team_sports for sport in group[\"Sport\"])\n",
        "\n",
        "    if team_medal and individual_medal:\n",
        "        versatile_athletes.append((ath_id, ath_name))\n",
        "\n",
        "print(\"Total number of versatile medal-winning athletes:\", len(versatile_athletes))\n"
      ],
      "metadata": {
        "id": "3hlZ-1pkYNyH",
        "outputId": "aa1cd813-04d6-41f1-ac91-73fd5b788d88",
        "colab": {
          "base_uri": "https://localhost:8080/"
        }
      },
      "execution_count": 14,
      "outputs": [
        {
          "output_type": "stream",
          "name": "stdout",
          "text": [
            "Total number of versatile medal-winning athletes: 48\n"
          ]
        }
      ]
    },
    {
      "cell_type": "markdown",
      "source": [
        "## Question 9\n",
        "\n",
        "A sports health association is analyzing athletes' BMI to assess fitness, defining \"fit\" as those in the Normal weight category.\n",
        "\n",
        "1. Create a **BMI** column using **Height** and **Weight**:  \n",
        "$BMI=\\frac{(Weight_{kg})}{Height_m^2}$\n",
        "\n",
        "Fill missing Height and Weight values with average within the same Sex group and round BMI to 1 decimal place.\n",
        "\n",
        "2. Count the number of \"fit\" athletes in the BMI range of 20-28 (inclusive).\n",
        "\n",
        "Note: some athletes might have different weights and heights over the years. Take an average over all their measurements."
      ],
      "metadata": {
        "id": "IJ19FSsv2P5X"
      }
    },
    {
      "cell_type": "code",
      "source": [
        "# Your code goes here\n",
        "# 1. Fill missing Height/Weight by Sex group average\n",
        "athlete_events[\"Height\"] = athlete_events.groupby(\"Sex\")[\"Height\"].transform(\n",
        "    lambda x: x.fillna(x.mean())\n",
        ")\n",
        "athlete_events[\"Weight\"] = athlete_events.groupby(\"Sex\")[\"Weight\"].transform(\n",
        "    lambda x: x.fillna(x.mean())\n",
        ")\n",
        "\n",
        "# 2. Compute BMI (Height in meters)\n",
        "athlete_events[\"BMI\"] = athlete_events[\"Weight\"] / ((athlete_events[\"Height\"] / 100) ** 2)\n",
        "\n",
        "# Round BMI to 1 decimal place\n",
        "athlete_events[\"BMI\"] = athlete_events[\"BMI\"].round(1)\n",
        "\n",
        "# 3. Average BMI per athlete (ID, Name)\n",
        "athlete_bmi = athlete_events.groupby([\"ID\", \"Name\"])[\"BMI\"].mean()\n",
        "\n",
        "# 4. Count athletes in \"fit\" BMI range (20–28 inclusive)\n",
        "fit_athletes = athlete_bmi[(athlete_bmi >= 20) & (athlete_bmi <= 28)]\n",
        "\n",
        "print(\"Number of 'fit' athletes (BMI 20–28):\", len(fit_athletes))\n"
      ],
      "metadata": {
        "id": "BGHU4E8v2qTK",
        "outputId": "5b56d104-58bc-4ed1-9494-7f14dbf045ae",
        "colab": {
          "base_uri": "https://localhost:8080/"
        }
      },
      "execution_count": 15,
      "outputs": [
        {
          "output_type": "stream",
          "name": "stdout",
          "text": [
            "Number of 'fit' athletes (BMI 20–28): 116936\n"
          ]
        }
      ]
    }
  ]
}